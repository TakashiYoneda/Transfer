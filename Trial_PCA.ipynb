{
 "cells": [
  {
   "cell_type": "markdown",
   "metadata": {},
   "source": [
    "主成分　＝　共分散行列の固有ベクトル\n",
    "\n",
    "numpyでのnp.linalg.eigでは、固有ベクトルは　列ベクトル\n",
    "\n",
    "PCA による .get_covariance()　では、固有ベクトルは　行ベクトル\n",
    "\n",
    "共分散行列　x　固有ベクトル　＝　固有値　x　固有ベクトル\n",
    "\n",
    "固有ベクトル行列 x 特定データ　＝　主成分ベクトルが新しい軸になるように回転されたプロジェクションとなる\n",
    "\n",
    "\n",
    "固有ベクトル行列　<=== データサンプル数の制約を受ける　\n",
    "\n",
    "(n=10,f=50) -> 10x50 の固有ベクトル行列 (not 50x50)   \n",
    "\n",
    "(n=100,f=50) -> 50x50 の固有ベクトル行列\n",
    "\n",
    "参考HP\n",
    "http://qiita.com/supersaiakujin/items/138c0d8e6511735f1f45"
   ]
  },
  {
   "cell_type": "code",
   "execution_count": 69,
   "metadata": {
    "collapsed": false
   },
   "outputs": [
    {
     "data": {
      "text/plain": [
       "<matplotlib.collections.PathCollection at 0x7f4a744e7400>"
      ]
     },
     "execution_count": 69,
     "metadata": {},
     "output_type": "execute_result"
    },
    {
     "data": {
      "image/png": "[encoded data removed]",
      "text/plain": [
       "<matplotlib.figure.Figure at 0x7f4a74698e80>"
      ]
     },
     "metadata": {},
     "output_type": "display_data"
    }
   ],
   "source": [
    "from sklearn.decomposition import PCA\n",
    "import numpy as np\n",
    "import matplotlib.pyplot as plt\n",
    "%matplotlib inline\n",
    "\n",
    "x = np.linspace(0.2, 1, 100)\n",
    "y = 0.8*x + np.random.randn(100)*0.1\n",
    "X = np.vstack([x,y]).T\n",
    "np.random.shuffle(X)\n",
    "\n",
    "plt.scatter(x,y)\n"
   ]
  },
  {
   "cell_type": "code",
   "execution_count": 134,
   "metadata": {
    "collapsed": false
   },
   "outputs": [
    {
     "name": "stdout",
     "output_type": "stream",
     "text": [
      "components:\n",
      "[[ 0.75325958  0.65772335]\n",
      " [-0.65772335  0.75325958]]\n",
      "mean:\n",
      "[ 0.6         0.48635629]\n",
      "covariance:\n",
      "[[ 0.05441077  0.04293564]\n",
      " [ 0.04293564  0.0427287 ]]\n"
     ]
    }
   ],
   "source": [
    "pca = PCA(n_components=2)\n",
    "pca.fit(X)\n",
    "PCA(copy = True, n_components=2, whiten=False)\n",
    "\n",
    "print('components:')\n",
    "print(pca.components_)\n",
    "print('mean:')\n",
    "print(pca.mean_)\n",
    "print('covariance:')\n",
    "print(pca.get_covariance())\n"
   ]
  },
  {
   "cell_type": "code",
   "execution_count": 135,
   "metadata": {
    "collapsed": false
   },
   "outputs": [
    {
     "name": "stdout",
     "output_type": "stream",
     "text": [
      "mean:\n",
      "[ 0.6         0.48635629]\n",
      "covariance:\n",
      "[[ 0.05441077  0.04293564]\n",
      " [ 0.04293564  0.0427287 ]] \n",
      "\n",
      "eigenvalue\n",
      "[ 0.09190087  0.0052386 ]\n",
      "eigenvector\n",
      "[[ 0.75325958 -0.65772335]\n",
      " [ 0.65772335  0.75325958]]\n"
     ]
    }
   ],
   "source": [
    "mn = np.mean(X, axis=0)\n",
    "d = X - mn\n",
    "cv = np.cov(d[:,0],d[:,1],bias=1)\n",
    "\n",
    "print('mean:')\n",
    "print(mn)\n",
    "print('covariance:')\n",
    "print(cv,'\\n')\n",
    "\n",
    "Evalue,Evector = np.linalg.eig(cv)\n",
    "print('eigenvalue')\n",
    "print(Evalue)\n",
    "print('eigenvector')\n",
    "print(Evector)"
   ]
  },
  {
   "cell_type": "code",
   "execution_count": 136,
   "metadata": {
    "collapsed": false
   },
   "outputs": [
    {
     "name": "stdout",
     "output_type": "stream",
     "text": [
      "共分散行列 x 固有ベクトル\n",
      "[[ 0.06922521]\n",
      " [ 0.06044535]]\n",
      "[[ 0.06922521 -0.00344555]\n",
      " [ 0.06044535  0.00394603]]\n",
      "[[ 0.06922521 -0.00344555]\n",
      " [ 0.06044535  0.00394603]]\n",
      "[[ 0.06922521 -0.00344555]\n",
      " [ 0.06044535  0.00394603]]\n",
      "固有値 x 固有ベクトル\n",
      "[[ 0.06922521 -0.00344555]\n",
      " [ 0.06044535  0.00394603]]\n",
      "[[ 0.06922521 -0.00344555]\n",
      " [ 0.06044535  0.00394603]]\n"
     ]
    }
   ],
   "source": [
    "print('共分散行列 x 固有ベクトル')\n",
    "print(cv.dot(Evector[:,0]).reshape(2,1))\n",
    "print(pca.get_covariance().dot(Evector))\n",
    "print(cv.dot(Evector))\n",
    "print(pca.get_covariance().dot(pca.components_.T))   # <=== .T あり\n",
    "#print(pca.get_covariance().dot(pca.components_))     # <=== .T なし　（計算間違いとなる）\n",
    "\n",
    "print('固有値 x 固有ベクトル')\n",
    "print(Evalue*Evector)\n",
    "print(Evalue*(pca.components_).T)"
   ]
  },
  {
   "cell_type": "code",
   "execution_count": 138,
   "metadata": {
    "collapsed": false
   },
   "outputs": [
    {
     "name": "stdout",
     "output_type": "stream",
     "text": [
      "(100, 2)\n"
     ]
    },
    {
     "data": {
      "text/plain": [
       "<matplotlib.collections.PathCollection at 0x7f4a74285518>"
      ]
     },
     "execution_count": 138,
     "metadata": {},
     "output_type": "execute_result"
    },
    {
     "data": {
      "image/png": "[encoded data removed]",
      "text/plain": [
       "<matplotlib.figure.Figure at 0x7f4a74513cf8>"
      ]
     },
     "metadata": {},
     "output_type": "display_data"
    }
   ],
   "source": [
    "# Projection: データと主成分ベクトルの内積を計算\n",
    "Xd = pca.transform(X)\n",
    "print(Xd.shape)\n",
    "plt.scatter(Xd[:,0],Xd[:,1])\n"
   ]
  },
  {
   "cell_type": "code",
   "execution_count": 139,
   "metadata": {
    "collapsed": false
   },
   "outputs": [],
   "source": [
    "Xe = pca.inverse_transform(Xd)\n"
   ]
  },
  {
   "cell_type": "code",
   "execution_count": null,
   "metadata": {
    "collapsed": true
   },
   "outputs": [],
   "source": []
  },
  {
   "cell_type": "code",
   "execution_count": null,
   "metadata": {
    "collapsed": true
   },
   "outputs": [],
   "source": []
  },
  {
   "cell_type": "code",
   "execution_count": 183,
   "metadata": {
    "collapsed": false
   },
   "outputs": [
    {
     "name": "stdout",
     "output_type": "stream",
     "text": [
      "7500\n",
      "100\n",
      "(100, 5, 5, 3)\n",
      "(5, 5, 3)\n",
      "(5, 3)\n",
      "(3,)\n",
      "100\n",
      "5\n",
      "5\n",
      "3\n",
      "[[[[5 0 3]\n",
      "   [3 7 9]\n",
      "   [3 5 2]\n",
      "   [4 7 6]\n",
      "   [8 8 1]]\n",
      "\n",
      "  [[6 7 7]\n",
      "   [8 1 5]\n",
      "   [9 8 9]\n",
      "   [4 3 0]\n",
      "   [3 5 0]]\n",
      "\n",
      "  [[2 3 8]\n",
      "   [1 3 3]\n",
      "   [3 7 0]\n",
      "   [1 9 9]\n",
      "   [0 4 7]]\n",
      "\n",
      "  [[3 2 7]\n",
      "   [2 0 0]\n",
      "   [4 5 5]\n",
      "   [6 8 4]\n",
      "   [1 4 9]]\n",
      "\n",
      "  [[8 1 1]\n",
      "   [7 9 9]\n",
      "   [3 6 7]\n",
      "   [2 0 3]\n",
      "   [5 9 4]]]\n",
      "\n",
      "\n",
      " [[[4 6 4]\n",
      "   [4 3 4]\n",
      "   [4 8 4]\n",
      "   [3 7 5]\n",
      "   [5 0 1]]\n",
      "\n",
      "  [[5 9 3]\n",
      "   [0 5 0]\n",
      "   [1 2 4]\n",
      "   [2 0 3]\n",
      "   [2 0 7]]\n",
      "\n",
      "  [[5 9 0]\n",
      "   [2 7 2]\n",
      "   [9 2 3]\n",
      "   [3 2 3]\n",
      "   [4 1 2]]\n",
      "\n",
      "  [[9 1 4]\n",
      "   [6 8 2]\n",
      "   [3 0 0]\n",
      "   [6 0 6]\n",
      "   [3 3 8]]\n",
      "\n",
      "  [[8 8 2]\n",
      "   [3 2 0]\n",
      "   [8 8 3]\n",
      "   [8 2 8]\n",
      "   [4 3 0]]]\n",
      "\n",
      "\n",
      " [[[4 3 6]\n",
      "   [9 8 0]\n",
      "   [8 5 9]\n",
      "   [0 9 6]\n",
      "   [5 3 1]]\n",
      "\n",
      "  [[8 0 4]\n",
      "   [9 6 5]\n",
      "   [7 8 8]\n",
      "   [9 2 8]\n",
      "   [6 6 9]]\n",
      "\n",
      "  [[1 6 8]\n",
      "   [8 3 2]\n",
      "   [3 6 3]\n",
      "   [6 5 7]\n",
      "   [0 8 4]]\n",
      "\n",
      "  [[6 5 8]\n",
      "   [2 3 9]\n",
      "   [7 5 3]\n",
      "   [4 5 3]\n",
      "   [3 7 9]]\n",
      "\n",
      "  [[9 9 7]\n",
      "   [3 2 3]\n",
      "   [9 7 7]\n",
      "   [5 1 2]\n",
      "   [2 8 1]]]\n",
      "\n",
      "\n",
      " ..., \n",
      " [[[0 2 8]\n",
      "   [5 1 6]\n",
      "   [8 1 3]\n",
      "   [7 0 2]\n",
      "   [0 5 4]]\n",
      "\n",
      "  [[5 6 7]\n",
      "   [0 7 7]\n",
      "   [4 8 8]\n",
      "   [4 3 3]\n",
      "   [1 9 6]]\n",
      "\n",
      "  [[2 4 6]\n",
      "   [9 9 9]\n",
      "   [2 5 8]\n",
      "   [8 5 0]\n",
      "   [4 8 2]]\n",
      "\n",
      "  [[9 5 0]\n",
      "   [9 4 3]\n",
      "   [7 2 2]\n",
      "   [0 0 8]\n",
      "   [6 2 5]]\n",
      "\n",
      "  [[1 7 9]\n",
      "   [4 0 3]\n",
      "   [5 6 5]\n",
      "   [5 1 0]\n",
      "   [7 3 3]]]\n",
      "\n",
      "\n",
      " [[[1 4 8]\n",
      "   [5 8 6]\n",
      "   [7 5 0]\n",
      "   [4 3 8]\n",
      "   [5 6 5]]\n",
      "\n",
      "  [[5 0 0]\n",
      "   [7 7 8]\n",
      "   [2 1 7]\n",
      "   [6 0 0]\n",
      "   [6 5 5]]\n",
      "\n",
      "  [[7 0 0]\n",
      "   [5 5 1]\n",
      "   [5 1 5]\n",
      "   [9 7 4]\n",
      "   [7 2 0]]\n",
      "\n",
      "  [[3 8 2]\n",
      "   [2 0 3]\n",
      "   [0 7 3]\n",
      "   [7 1 5]\n",
      "   [5 7 0]]\n",
      "\n",
      "  [[3 3 6]\n",
      "   [0 1 7]\n",
      "   [6 8 7]\n",
      "   [2 6 1]\n",
      "   [8 4 9]]]\n",
      "\n",
      "\n",
      " [[[5 8 2]\n",
      "   [9 1 3]\n",
      "   [1 3 8]\n",
      "   [8 7 9]\n",
      "   [4 7 1]]\n",
      "\n",
      "  [[3 0 0]\n",
      "   [3 8 3]\n",
      "   [1 4 9]\n",
      "   [6 6 6]\n",
      "   [1 1 8]]\n",
      "\n",
      "  [[7 0 6]\n",
      "   [6 3 3]\n",
      "   [8 2 8]\n",
      "   [1 3 4]\n",
      "   [4 3 3]]\n",
      "\n",
      "  [[3 4 7]\n",
      "   [9 3 2]\n",
      "   [1 2 3]\n",
      "   [9 2 6]\n",
      "   [5 7 6]]\n",
      "\n",
      "  [[7 1 9]\n",
      "   [2 3 8]\n",
      "   [1 7 2]\n",
      "   [2 7 8]\n",
      "   [0 3 9]]]]\n"
     ]
    },
    {
     "data": {
      "text/plain": [
       "(100, 75)"
      ]
     },
     "execution_count": 183,
     "metadata": {},
     "output_type": "execute_result"
    }
   ],
   "source": [
    "np.random.seed(0)\n",
    "\n",
    "x=[]\n",
    "for i in range(5*5*3*100):\n",
    "    x.append(np.random.randint(10))\n",
    "\n",
    "print(len(x))\n",
    "x=np.array(x).reshape(-1,5,5,3)\n",
    "print(len(x))\n",
    "print(x.shape)\n",
    "print(x[0].shape)\n",
    "print(x[0][0].shape)\n",
    "print(x[0][0][0].shape)\n",
    "print(x.shape[0])\n",
    "print(x.shape[1])\n",
    "print(x.shape[2])\n",
    "print(x.shape[3])\n",
    "print(x)\n",
    "\n",
    "x1d = x.reshape(-1,5*5*3)\n",
    "x1d.shape"
   ]
  },
  {
   "cell_type": "code",
   "execution_count": 188,
   "metadata": {
    "collapsed": false
   },
   "outputs": [
    {
     "name": "stdout",
     "output_type": "stream",
     "text": [
      "(75, 75)\n",
      "(75,)\n",
      "(75, 75)\n",
      "components:\n",
      "[[ 0.01601784 -0.03966885  0.03379886 ..., -0.02898374  0.07218411\n",
      "  -0.10357482]\n",
      " [ 0.14461823  0.03944473 -0.12221856 ..., -0.21614031 -0.16826111\n",
      "   0.03986547]\n",
      " [ 0.09857129 -0.06091196 -0.00886725 ..., -0.1017779  -0.19722168\n",
      "  -0.08059394]\n",
      " ..., \n",
      " [-0.06953796 -0.00693343 -0.03000834 ...,  0.01331597 -0.07215541\n",
      "   0.26114141]\n",
      " [-0.0385258  -0.02165967 -0.01722034 ..., -0.17361282 -0.24490674\n",
      "   0.0970212 ]\n",
      " [-0.1339058  -0.14758212 -0.0336471  ..., -0.05590709 -0.14187128\n",
      "  -0.09961934]]\n",
      "mean:\n",
      "[ 4.1   4.53  4.63  4.51  4.3   4.61  3.97  4.63  4.32  4.21  3.93  4.66\n",
      "  4.62  4.76  4.41  4.26  4.42  4.06  4.65  4.55  4.64  4.37  4.44  4.67\n",
      "  4.87  4.34  4.22  4.37  4.76  4.27  3.69  4.61  4.66  4.17  4.38  3.89\n",
      "  4.3   4.69  4.55  4.8   4.72  4.59  4.66  4.16  4.17  4.62  4.25  5.01\n",
      "  4.81  4.79  4.37  4.85  4.36  4.81  4.49  4.12  4.74  4.84  4.5   4.73\n",
      "  4.65  4.72  4.4   4.48  3.92  4.49  4.73  4.84  4.62  4.21  4.24  4.32\n",
      "  4.68  4.66  4.69]\n",
      "covariance:\n",
      "[[ 7.25    1.487  -0.683  ..., -1.368  -2.286  -0.169 ]\n",
      " [ 1.487   9.1091  1.8661 ..., -0.8204 -0.7898 -0.3157]\n",
      " [-0.683   1.8661  8.1731 ...,  0.8516 -0.0658 -0.5347]\n",
      " ..., \n",
      " [-1.368  -0.8204  0.8516 ...,  8.0176 -0.1788 -0.0092]\n",
      " [-2.286  -0.7898 -0.0658 ..., -0.1788  8.6044  0.4246]\n",
      " [-0.169  -0.3157 -0.5347 ..., -0.0092  0.4246  8.0739]]\n"
     ]
    }
   ],
   "source": [
    "pca1 = PCA(n_components=75)\n",
    "pca1.fit(x1d)\n",
    "\n",
    "print(pca1.components_.shape)\n",
    "print(pca1.mean_.shape)\n",
    "print(pca1.get_covariance().shape)\n",
    "\n",
    "print('components:')\n",
    "print(pca1.components_)\n",
    "print('mean:')\n",
    "print(pca1.mean_)\n",
    "print('covariance:')\n",
    "print(pca1.get_covariance())"
   ]
  },
  {
   "cell_type": "code",
   "execution_count": null,
   "metadata": {
    "collapsed": true
   },
   "outputs": [],
   "source": []
  }
 ],
 "metadata": {
  "kernelspec": {
   "display_name": "Python 3",
   "language": "python",
   "name": "python3"
  },
  "language_info": {
   "codemirror_mode": {
    "name": "ipython",
    "version": 3
   },
   "file_extension": ".py",
   "mimetype": "text/x-python",
   "name": "python",
   "nbconvert_exporter": "python",
   "pygments_lexer": "ipython3",
   "version": "3.6.0"
  }
 },
 "nbformat": 4,
 "nbformat_minor": 2
}
