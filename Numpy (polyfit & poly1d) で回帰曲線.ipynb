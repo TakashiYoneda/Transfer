{
 "cells": [
  {
   "cell_type": "markdown",
   "metadata": {},
   "source": [
    "■ 線を推測するための点群から、曲線・直線の予測\n",
    "\n",
    "（polyfit & poly1d）\n",
    "\n",
    "    1. polyfit (x列ベクトル, y列ベクトル, n次数) \n",
    "\n",
    "        => n次多項式の近似曲線の係数を　列ベクトルで返す\n",
    "                    [a1 a2 ... an b] \n",
    "\n",
    "                    y = a1 x^(n) +  a2 x^(n-1) + ... + an x + b\n",
    "                    \n",
    "                    ※次数を増やしすぎると、Overfittingとなる\n",
    "                    \n",
    "    2. poly1d (係数情報の入った列ベクトル) (y値を求めるためのx値ベクトル)\n",
    "\n",
    "        => n次多項式の近似曲線のy値を　列ベクトルで返す\n",
    "\n"
   ]
  },
  {
   "cell_type": "code",
   "execution_count": 3,
   "metadata": {
    "collapsed": false
   },
   "outputs": [
    {
     "name": "stdout",
     "output_type": "stream",
     "text": [
      "[ 19.03233083 -58.95714286]\n",
      "[ -58.95714286  -39.92481203  -20.8924812    -1.86015038   17.17218045\n",
      "   36.20451128   55.23684211   74.26917293   93.30150376  112.33383459\n",
      "  131.36616541  150.39849624  169.43082707  188.46315789  207.49548872\n",
      "  226.52781955  245.56015038  264.5924812   283.62481203  302.65714286]\n"
     ]
    },
    {
     "data": {
      "image/png": "[encoded data removed]",
      "text/plain": [
       "<matplotlib.figure.Figure at 0x7f6af4456ef0>"
      ]
     },
     "metadata": {},
     "output_type": "display_data"
    }
   ],
   "source": [
    "import numpy as np\n",
    "from matplotlib import pyplot as plt\n",
    " \n",
    "x = np.array([0,1,2,3,4,5,6,7,8,9,10,11,12,13,14,15,16,17,18,19])\n",
    "y = np.array([-1,-3,-1,9,21,30,37,39,67,65,95,123,142,173,191,216,256,292,328,358])\n",
    " \n",
    "# y は次の式で生成\n",
    "# y = np.round(x**2 + np.random.randn(20) * 5)\n",
    "#\n",
    "plt.scatter(x , y)\n",
    "\n",
    "ans = np.polyfit(x,y,1)\n",
    "print(ans)   #列ベクトル\n",
    "\n",
    "y_hat = np.poly1d(ans)(x)\n",
    "print(y_hat)\n",
    "\n",
    "plt.plot(x,y_hat, label='d=1')\n",
    "\n",
    "plt.show()"
   ]
  },
  {
   "cell_type": "code",
   "execution_count": null,
   "metadata": {
    "collapsed": false
   },
   "outputs": [],
   "source": []
  },
  {
   "cell_type": "code",
   "execution_count": 20,
   "metadata": {
    "collapsed": false
   },
   "outputs": [
    {
     "name": "stdout",
     "output_type": "stream",
     "text": [
      "[[10, 100], [20, 50], [30, 50]]\n",
      "[[ 10 100]\n",
      " [ 20  50]\n",
      " [ 30  50]]\n",
      "[[20, 50], [30, 50]]\n",
      "[[20 50]\n",
      " [30 50]]\n"
     ]
    }
   ],
   "source": [
    "points=[[10,100],[20,50],[30,50]]\n",
    "print(points)\n",
    "\n",
    "p=np.array(points)\n",
    "print(p)\n",
    "\n",
    "del points[0]\n",
    "print(points)\n",
    "\n",
    "p=p[-2:,:]\n",
    "print(p)"
   ]
  },
  {
   "cell_type": "code",
   "execution_count": null,
   "metadata": {
    "collapsed": true
   },
   "outputs": [],
   "source": []
  },
  {
   "cell_type": "code",
   "execution_count": null,
   "metadata": {
    "collapsed": true
   },
   "outputs": [],
   "source": []
  }
 ],
 "metadata": {
  "kernelspec": {
   "display_name": "Python 3",
   "language": "python",
   "name": "python3"
  },
  "language_info": {
   "codemirror_mode": {
    "name": "ipython",
    "version": 3
   },
   "file_extension": ".py",
   "mimetype": "text/x-python",
   "name": "python",
   "nbconvert_exporter": "python",
   "pygments_lexer": "ipython3",
   "version": "3.6.0"
  }
 },
 "nbformat": 4,
 "nbformat_minor": 2
}
